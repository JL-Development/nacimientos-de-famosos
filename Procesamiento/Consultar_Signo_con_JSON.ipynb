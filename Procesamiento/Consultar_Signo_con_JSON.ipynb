{
 "cells": [
  {
   "cell_type": "code",
   "execution_count": 7,
   "id": "0346bb9b",
   "metadata": {},
   "outputs": [],
   "source": [
    "signo = (\"Capricornio\", \"Acuario\", \"Piscis\", \"Aries\", \"Tauro\", \"GÃ©minis\", \"CÃ¡ncer\", \"Leo\", \"Virgo\", \"Libra\", \"Escorpio\", \"Sagitario\")\n",
    "fechas = (20, 19, 20, 20, 21, 21, 22, 22, 22, 22, 22, 21)\n"
   ]
  },
  {
   "cell_type": "code",
   "execution_count": 4,
   "id": "dbb320b0",
   "metadata": {},
   "outputs": [],
   "source": [
    "# devuelve el signo del zodiaco segun dia y mes\n",
    "def calcular_signo(mes_numero,dia):\n",
    "    mes_numero=mes_numero-1\n",
    "    if dia>fechas[mes_numero]:\n",
    "        mes_numero=mes_numero+1\n",
    "    if mes_numero==12:\n",
    "        mes_numero=0\n",
    "    signo_persona = signo[mes_numero] # guarda en una variable el signo de la persona\n",
    "    return signo_persona\n"
   ]
  },
  {
   "cell_type": "code",
   "execution_count": 10,
   "id": "a0ba66ae",
   "metadata": {},
   "outputs": [
    {
     "name": "stdout",
     "output_type": "stream",
     "text": [
      "b'{\"signo\": \"Acuario\"}'\n"
     ]
    }
   ],
   "source": [
    "import json\n",
    "def get_signo():\n",
    "    dia = int('3')\n",
    "    mes = int('2')\n",
    "    signo = calcular_signo(mes,dia)\n",
    "    s = {'signo':signo}\n",
    "    return json.dumps(s,ensure_ascii=False).encode('utf8')\n",
    "print(get_signo())"
   ]
  }
 ],
 "metadata": {
  "kernelspec": {
   "display_name": "Python 3 (ipykernel)",
   "language": "python",
   "name": "python3"
  },
  "language_info": {
   "codemirror_mode": {
    "name": "ipython",
    "version": 3
   },
   "file_extension": ".py",
   "mimetype": "text/x-python",
   "name": "python",
   "nbconvert_exporter": "python",
   "pygments_lexer": "ipython3",
   "version": "3.8.5"
  }
 },
 "nbformat": 4,
 "nbformat_minor": 5
}
