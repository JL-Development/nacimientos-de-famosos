{
 "cells": [
  {
   "cell_type": "code",
   "execution_count": 1,
   "id": "79e1b13c",
   "metadata": {},
   "outputs": [],
   "source": [
    "import wikipedia # libreria de python de wikipedia\n",
    "from datetime import date # para saber el anio actual\n",
    "import re #se usa para poder reemplazar los simbolos por espacios en un string\n",
    "import requests\n",
    "import json\n"
   ]
  },
  {
   "cell_type": "code",
   "execution_count": 2,
   "id": "bb4f9414",
   "metadata": {},
   "outputs": [],
   "source": [
    "# CONSTANTES\n",
    "\n",
    "wikipedia.set_lang(\"es\") # setea el lenguaje en que se va a buscar en wikipedia\n",
    "\n",
    "todays_date = date.today()\n",
    "\n",
    "meses_nombres = {'enero': 1,'febrero': 2,'marzo': 3,'abril': 4,'mayo': 5,'junio': 6,'julio': 7,'agosto': 8,'septiembre': 9,'octubre': 10,'noviembre': 11,'diciembre': 12}\n",
    "key_list = list(meses_nombres.keys())\n",
    "\n",
    "signo = (\"Capricornio\", \"Acuario\", \"Piscis\", \"Aries\", \"Tauro\", \"Géminis\", \"Cáncer\", \"Leo\", \"Virgo\", \"Libra\", \"Escorpio\", \"Sagitario\")\n",
    "fechas = (20, 19, 20, 20, 21, 21, 22, 22, 22, 22, 22, 21)\n",
    "\n",
    "WIKI_REQUEST_IMAGEN = 'http://en.wikipedia.org/w/api.php?action=query&prop=pageimages&format=json&piprop=original&titles='\n",
    "WIKI_REQUEST_INFOBOX = 'https://en.wikipedia.org/w/api.php?action=query&prop=revisions&rvprop=content&format=json&titles='\n",
    "\n"
   ]
  },
  {
   "cell_type": "code",
   "execution_count": 3,
   "id": "610df535",
   "metadata": {},
   "outputs": [],
   "source": [
    "# funcion que devuelve el numero del mes que se ingresa y el nombre\n",
    "\n",
    "def devolver_nombre_mes(num):\n",
    "    return key_list[num-1] # busca el mes dentro del diccionario y se guarda el nombre\n"
   ]
  },
  {
   "cell_type": "code",
   "execution_count": 4,
   "id": "853afc60",
   "metadata": {},
   "outputs": [],
   "source": [
    "# devuelve el signo del zodiaco segun dia y mes\n",
    "\n",
    "def calcular_signo(mes_numero,dia):\n",
    "    mes_numero=mes_numero-1\n",
    "    if dia>fechas[mes_numero]:\n",
    "        mes_numero=mes_numero+1\n",
    "    if mes_numero==12:\n",
    "        mes_numero=0\n",
    "    signo_persona = signo[mes_numero] # guarda en una variable el signo de la persona\n",
    "    return signo_persona"
   ]
  },
  {
   "cell_type": "code",
   "execution_count": 5,
   "id": "777cdbd1",
   "metadata": {},
   "outputs": [],
   "source": [
    "#calcula la edad de la persona\n",
    "\n",
    "def calcular_edad(anio):\n",
    "    edad = todays_date.year - anio #resta anio actual menos anio de nacimiento\n",
    "    return edad"
   ]
  },
  {
   "cell_type": "code",
   "execution_count": null,
   "id": "487584d2",
   "metadata": {},
   "outputs": [],
   "source": []
  },
  {
   "cell_type": "code",
   "execution_count": null,
   "id": "09eb5cca",
   "metadata": {},
   "outputs": [],
   "source": []
  },
  {
   "cell_type": "code",
   "execution_count": 6,
   "id": "a2e82d60",
   "metadata": {},
   "outputs": [
    {
     "name": "stdout",
     "output_type": "stream",
     "text": [
      "Ingrese persona: messi\n",
      "Opcion 0 : Lionel Messi\n",
      "Opcion 1 : Rivalidad Cristiano-Messi\n",
      "Opcion 2 : Messi (película de 2014)\n",
      "Opcion 3 : José de Yanguas Messía\n",
      "Opcion 4 : Messi (desambiguación)\n",
      "Opcion 5 : Messia-sur-Sorne\n",
      "Opcion 6 : José Luis Messía\n",
      "Opcion 7 : Marcelo Messias\n",
      "Opcion 8 : FIFA/FIFPro World XI\n",
      "Opcion 9 : Fabrício dos Santos Messias\n"
     ]
    }
   ],
   "source": [
    "# devuelve todas las coincidencias\n",
    "\n",
    "persona = input('Ingrese persona: ')\n",
    "\n",
    "lista_de_coincidencias = wikipedia.search(persona)  #busca todas las coincidencias que exiten en wikipedia con el nombre\n",
    "\n",
    "for i in range(0,len(lista_de_coincidencias)): # imprime todas las coincidencias de wikipedia con el nombre ingresado\n",
    "    print('Opcion',i,\":\",lista_de_coincidencias[i])"
   ]
  },
  {
   "cell_type": "code",
   "execution_count": 7,
   "id": "ec0b414b",
   "metadata": {},
   "outputs": [
    {
     "name": "stdout",
     "output_type": "stream",
     "text": [
      "Ingrese Opcion: 0\n"
     ]
    }
   ],
   "source": [
    "# se queda con la pagina de la persona ingresada\n",
    "\n",
    "opcion = int(input('Ingrese Opcion: '))\n",
    "pagina = wikipedia.WikipediaPage(lista_de_coincidencias[opcion]) # se queda con la pagina de wikipedia de la persona"
   ]
  },
  {
   "cell_type": "code",
   "execution_count": null,
   "id": "27fad057",
   "metadata": {},
   "outputs": [],
   "source": []
  },
  {
   "cell_type": "code",
   "execution_count": null,
   "id": "3019ccf0",
   "metadata": {},
   "outputs": [],
   "source": []
  },
  {
   "cell_type": "code",
   "execution_count": 8,
   "id": "b66b5aef",
   "metadata": {},
   "outputs": [],
   "source": [
    "## EMPIEZA A CALCULAR LAS FECHAS\n",
    "\n",
    "response  = requests.get(WIKI_REQUEST_INFOBOX + pagina.title)\n",
    "json_data = json.loads(response.text)\n",
    "json_infobox = list(json_data['query']['pages'].values())[0]['revisions'][0]['*']\n",
    "info_box = json_infobox.split(\"Infobox\")[1] # se queda con la info de la seccion \"infobox\" de wikipedia"
   ]
  },
  {
   "cell_type": "code",
   "execution_count": 9,
   "id": "2b4009ae",
   "metadata": {},
   "outputs": [
    {
     "name": "stdout",
     "output_type": "stream",
     "text": [
      "24 6 1987\n"
     ]
    }
   ],
   "source": [
    "## ---------- NACIMIENTO ----------- ##\n",
    "birth_date = json_infobox.split(\"birth_date\")[1]\n",
    "birth_date = birth_date.split(\"}\")[0] # se queda con la fecha de cumpleaños de la persona\n",
    "\n",
    "birth_date = re.sub('[^a-zA-Z0-9\\n\\.]', ' ', birth_date) # cambia todos los simbolos por espacios\n",
    "\n",
    "numeros_fechas_cumple = [int(i) for i in birth_date.split() if i.isdigit()] # se queda con todos los numeros del string\n",
    "\n",
    "anio_nacimiento = numeros_fechas_cumple[0]\n",
    "mes_nacimiento = numeros_fechas_cumple[1]\n",
    "dia_nacimiento = numeros_fechas_cumple[2]\n",
    "\n",
    "print(dia_nacimiento,mes_nacimiento,anio_nacimiento)"
   ]
  },
  {
   "cell_type": "code",
   "execution_count": 10,
   "id": "f52a0d82",
   "metadata": {},
   "outputs": [
    {
     "name": "stdout",
     "output_type": "stream",
     "text": [
      "La persona no murió.\n"
     ]
    }
   ],
   "source": [
    "## ----------- MUERTE -------------- ##\n",
    "try: \n",
    "    birth_date = json_infobox.split(\"death_date\")[1]\n",
    "    birth_date = birth_date.split(\"}\")[0]\n",
    "    birth_date=re.sub('[^a-zA-Z0-9\\n\\.]', ' ', birth_date) # cambia todos los simbolos por espacios\n",
    "    numeros_fechas_muerte = [int(i) for i in birth_date.split() if i.isdigit()] # se queda con todos los numeros del string\n",
    "\n",
    "    anio_muerte = numeros_fechas_muerte[0]\n",
    "    mes_muerte = numeros_fechas_muerte[1]\n",
    "    dia_muerte = numeros_fechas_muerte[2]\n",
    "\n",
    "    print(dia_muerte,mes_muerte,anio_muerte)\n",
    "    \n",
    "except:\n",
    "    print('La persona no murió.')\n",
    "    anio_muerte = 0\n",
    "    "
   ]
  },
  {
   "cell_type": "code",
   "execution_count": 11,
   "id": "38b0d1a4",
   "metadata": {},
   "outputs": [
    {
     "name": "stdout",
     "output_type": "stream",
     "text": [
      "https://upload.wikimedia.org/wikipedia/commons/c/c1/Lionel_Messi_20180626.jpg\n"
     ]
    }
   ],
   "source": [
    "## ---------- IMAGEN --------------- ##\n",
    "\n",
    "response  = requests.get(WIKI_REQUEST_IMAGEN + pagina.title)\n",
    "json_data = json.loads(response.text)\n",
    "imagen_persona = list(json_data['query']['pages'].values())[0]['original']['source']\n",
    "\n",
    "print(imagen_persona)"
   ]
  },
  {
   "cell_type": "code",
   "execution_count": 12,
   "id": "139a3ad9",
   "metadata": {},
   "outputs": [
    {
     "name": "stdout",
     "output_type": "stream",
     "text": [
      "---------- FICHA DE LA PERSONA ----------\n",
      "Nombre: Lionel Messi\n",
      "Fecha de Nacimiento: 24 de junio de 1987\n",
      "Edad: 34\n",
      "Signo del Zodíaco: Cáncer\n",
      "Información extraída de: https://es.wikipedia.org/wiki/Lionel_Messi\n",
      "Imagen de la persona: https://upload.wikimedia.org/wikipedia/commons/c/c1/Lionel_Messi_20180626.jpg\n"
     ]
    }
   ],
   "source": [
    "# dice toda la informacion de la persona\n",
    "\n",
    "mes_nacimiento_nombre = devolver_nombre_mes(mes_nacimiento)\n",
    "edad = calcular_edad(anio_nacimiento)\n",
    "signo = calcular_signo(mes_nacimiento,dia_nacimiento)\n",
    "\n",
    "print('---------- FICHA DE LA PERSONA ----------')\n",
    "\n",
    "print('Nombre:',pagina.title) #titulo de la pagina de wikipedia\n",
    "\n",
    "print('Fecha de Nacimiento:',dia_nacimiento,\"de\",mes_nacimiento_nombre,'de',anio_nacimiento)\n",
    "\n",
    "if (anio_muerte != 0):\n",
    "      mes_muerte_nombre = devolver_nombre_mes(mes_muerte)\n",
    "      print('Fecha de Muerte:',dia_muerte,\"de\",mes_muerte_nombre,'de',anio_muerte)\n",
    "      print('La persona tendría:',edad,'años.')\n",
    "else:\n",
    "    print('Edad:',edad)\n",
    "    \n",
    "print('Signo del Zodíaco:',signo)\n",
    "\n",
    "print('Información extraída de:',pagina.url)\n",
    "\n",
    "print('Imagen de la persona:',imagen_persona)"
   ]
  },
  {
   "cell_type": "code",
   "execution_count": null,
   "id": "c31dafea",
   "metadata": {},
   "outputs": [],
   "source": []
  }
 ],
 "metadata": {
  "kernelspec": {
   "display_name": "Python 3 (ipykernel)",
   "language": "python",
   "name": "python3"
  },
  "language_info": {
   "codemirror_mode": {
    "name": "ipython",
    "version": 3
   },
   "file_extension": ".py",
   "mimetype": "text/x-python",
   "name": "python",
   "nbconvert_exporter": "python",
   "pygments_lexer": "ipython3",
   "version": "3.8.5"
  }
 },
 "nbformat": 4,
 "nbformat_minor": 5
}
