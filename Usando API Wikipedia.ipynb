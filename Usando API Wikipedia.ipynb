{
 "cells": [
  {
   "cell_type": "code",
   "execution_count": 2,
   "id": "79e1b13c",
   "metadata": {},
   "outputs": [],
   "source": [
    "import wikipedia # libreria de python de wikipedia\n",
    "from datetime import date # para saber el anio actual\n",
    "import re #se usa para poder reemplazar los simbolos por espacios en un string\n",
    "import requests\n",
    "import json\n"
   ]
  },
  {
   "cell_type": "code",
   "execution_count": 3,
   "id": "bb4f9414",
   "metadata": {},
   "outputs": [],
   "source": [
    "# CONSTANTES\n",
    "\n",
    "wikipedia.set_lang(\"es\") # setea el lenguaje en que se va a buscar en wikipedia\n",
    "\n",
    "todays_date = date.today()\n",
    "\n",
    "meses_nombres = {'enero': 1,'febrero': 2,'marzo': 3,'abril': 4,'mayo': 5,'junio': 6,'julio': 7,'agosto': 8,'septiembre': 9,'octubre': 10,'noviembre': 11,'diciembre': 12}\n",
    "key_list = list(meses_nombres.keys())\n",
    "\n",
    "signo = (\"Capricornio\", \"Acuario\", \"Piscis\", \"Aries\", \"Tauro\", \"Géminis\", \"Cáncer\", \"Leo\", \"Virgo\", \"Libra\", \"Escorpio\", \"Sagitario\")\n",
    "fechas = (20, 19, 20, 20, 21, 21, 22, 22, 22, 22, 22, 21)\n",
    "\n",
    "WIKI_REQUEST_IMAGEN = 'http://en.wikipedia.org/w/api.php?action=query&prop=pageimages&format=json&piprop=original&titles='\n",
    "WIKI_REQUEST_INFOBOX = 'https://en.wikipedia.org/w/api.php?action=query&prop=revisions&rvprop=content&format=json&titles='\n",
    "\n"
   ]
  },
  {
   "cell_type": "code",
   "execution_count": 4,
   "id": "610df535",
   "metadata": {},
   "outputs": [],
   "source": [
    "# funcion que devuelve el numero del mes que se ingresa y el nombre\n",
    "\n",
    "def devolver_nombre_mes(num):\n",
    "    return key_list[num-1] # busca el mes dentro del diccionario y se guarda el nombre\n"
   ]
  },
  {
   "cell_type": "code",
   "execution_count": 5,
   "id": "853afc60",
   "metadata": {},
   "outputs": [],
   "source": [
    "# devuelve el signo del zodiaco segun dia y mes\n",
    "\n",
    "def calcular_signo(mes_numero,dia):\n",
    "    mes_numero=mes_numero-1\n",
    "    if dia>fechas[mes_numero]:\n",
    "        mes_numero=mes_numero+1\n",
    "    if mes_numero==12:\n",
    "        mes_numero=0\n",
    "    signo_persona = signo[mes_numero] # guarda en una variable el signo de la persona\n",
    "    return signo_persona"
   ]
  },
  {
   "cell_type": "code",
   "execution_count": 6,
   "id": "777cdbd1",
   "metadata": {},
   "outputs": [],
   "source": [
    "#calcula la edad de la persona\n",
    "\n",
    "def calcular_edad(anio):\n",
    "    edad = todays_date.year - anio #resta anio actual menos anio de nacimiento\n",
    "    return edad"
   ]
  },
  {
   "cell_type": "code",
   "execution_count": null,
   "id": "09eb5cca",
   "metadata": {},
   "outputs": [],
   "source": []
  },
  {
   "cell_type": "code",
   "execution_count": 7,
   "id": "a2e82d60",
   "metadata": {},
   "outputs": [
    {
     "name": "stdout",
     "output_type": "stream",
     "text": [
      "Ingrese persona: calcuta\n",
      "Opcion 1 : Calcuta\n",
      "Opcion 2 : Teresa de Calcuta\n",
      "Opcion 3 : Mohammedan SC Calcuta\n",
      "Opcion 4 : Universidad de Calcuta\n",
      "Opcion 5 : Jardín botánico de Calcuta\n",
      "Opcion 6 : Copa Calcuta\n",
      "Opcion 7 : Iglesia de Santo Tomás (Calcuta)\n",
      "Opcion 8 : Servicio de autobús Londres–Calcuta\n",
      "Opcion 9 : Puerto de Calcuta\n",
      "Opcion 10 : Agujero negro de Calcuta\n"
     ]
    }
   ],
   "source": [
    "# devuelve todas las coincidencias\n",
    "\n",
    "persona = input('Ingrese persona: ')\n",
    "\n",
    "lista_de_coincidencias = wikipedia.search(persona)  #busca todas las coincidencias que exiten en wikipedia con el nombre\n",
    "\n",
    "for i in range(0,len(lista_de_coincidencias)): # imprime todas las coincidencias de wikipedia con el nombre ingresado\n",
    "    print('Opcion',i+1,\":\",lista_de_coincidencias[i])"
   ]
  },
  {
   "cell_type": "code",
   "execution_count": 8,
   "id": "ec0b414b",
   "metadata": {},
   "outputs": [
    {
     "name": "stdout",
     "output_type": "stream",
     "text": [
      "Ingrese Opcion: 2\n"
     ]
    }
   ],
   "source": [
    "# se queda con la pagina de la persona ingresada\n",
    "\n",
    "opcion = int(input('Ingrese Opcion: '))\n",
    "pagina = wikipedia.WikipediaPage(lista_de_coincidencias[opcion-1]) # se queda con la pagina de wikipedia de la persona"
   ]
  },
  {
   "cell_type": "code",
   "execution_count": 10,
   "id": "b66b5aef",
   "metadata": {},
   "outputs": [
    {
     "ename": "KeyError",
     "evalue": "'revisions'",
     "output_type": "error",
     "traceback": [
      "\u001b[1;31m---------------------------------------------------------------------------\u001b[0m",
      "\u001b[1;31mKeyError\u001b[0m                                  Traceback (most recent call last)",
      "\u001b[1;32m~\\AppData\\Local\\Temp/ipykernel_16132/756173070.py\u001b[0m in \u001b[0;36m<module>\u001b[1;34m\u001b[0m\n\u001b[0;32m      3\u001b[0m \u001b[0mresponse\u001b[0m  \u001b[1;33m=\u001b[0m \u001b[0mrequests\u001b[0m\u001b[1;33m.\u001b[0m\u001b[0mget\u001b[0m\u001b[1;33m(\u001b[0m\u001b[0mWIKI_REQUEST_INFOBOX\u001b[0m \u001b[1;33m+\u001b[0m \u001b[0mpagina\u001b[0m\u001b[1;33m.\u001b[0m\u001b[0mtitle\u001b[0m\u001b[1;33m)\u001b[0m\u001b[1;33m\u001b[0m\u001b[1;33m\u001b[0m\u001b[0m\n\u001b[0;32m      4\u001b[0m \u001b[0mjson_data\u001b[0m \u001b[1;33m=\u001b[0m \u001b[0mjson\u001b[0m\u001b[1;33m.\u001b[0m\u001b[0mloads\u001b[0m\u001b[1;33m(\u001b[0m\u001b[0mresponse\u001b[0m\u001b[1;33m.\u001b[0m\u001b[0mtext\u001b[0m\u001b[1;33m)\u001b[0m\u001b[1;33m\u001b[0m\u001b[1;33m\u001b[0m\u001b[0m\n\u001b[1;32m----> 5\u001b[1;33m \u001b[0mjson_infobox\u001b[0m \u001b[1;33m=\u001b[0m \u001b[0mlist\u001b[0m\u001b[1;33m(\u001b[0m\u001b[0mjson_data\u001b[0m\u001b[1;33m[\u001b[0m\u001b[1;34m'query'\u001b[0m\u001b[1;33m]\u001b[0m\u001b[1;33m[\u001b[0m\u001b[1;34m'pages'\u001b[0m\u001b[1;33m]\u001b[0m\u001b[1;33m.\u001b[0m\u001b[0mvalues\u001b[0m\u001b[1;33m(\u001b[0m\u001b[1;33m)\u001b[0m\u001b[1;33m)\u001b[0m\u001b[1;33m[\u001b[0m\u001b[1;36m0\u001b[0m\u001b[1;33m]\u001b[0m\u001b[1;33m[\u001b[0m\u001b[1;34m'revisions'\u001b[0m\u001b[1;33m]\u001b[0m\u001b[1;33m[\u001b[0m\u001b[1;36m0\u001b[0m\u001b[1;33m]\u001b[0m\u001b[1;33m[\u001b[0m\u001b[1;34m'*'\u001b[0m\u001b[1;33m]\u001b[0m\u001b[1;33m\u001b[0m\u001b[1;33m\u001b[0m\u001b[0m\n\u001b[0m\u001b[0;32m      6\u001b[0m \u001b[0minfo_box\u001b[0m \u001b[1;33m=\u001b[0m \u001b[0mjson_infobox\u001b[0m\u001b[1;33m.\u001b[0m\u001b[0msplit\u001b[0m\u001b[1;33m(\u001b[0m\u001b[1;34m\"Infobox\"\u001b[0m\u001b[1;33m)\u001b[0m\u001b[1;33m[\u001b[0m\u001b[1;36m1\u001b[0m\u001b[1;33m]\u001b[0m \u001b[1;31m# se queda con la info de la seccion \"infobox\" de wikipedia\u001b[0m\u001b[1;33m\u001b[0m\u001b[1;33m\u001b[0m\u001b[0m\n",
      "\u001b[1;31mKeyError\u001b[0m: 'revisions'"
     ]
    }
   ],
   "source": [
    "## EMPIEZA A CALCULAR LAS FECHAS\n",
    "\n",
    "response  = requests.get(WIKI_REQUEST_INFOBOX + pagina.title)\n",
    "json_data = json.loads(response.text)\n",
    "json_infobox = list(json_data['query']['pages'].values())[0]['revisions'][0]['*']\n",
    "info_box = json_infobox.split(\"Infobox\")[1] # se queda con la info de la seccion \"infobox\" de wikipedia"
   ]
  },
  {
   "cell_type": "code",
   "execution_count": null,
   "id": "2b4009ae",
   "metadata": {},
   "outputs": [],
   "source": [
    "## ---------- NACIMIENTO ----------- ##\n",
    "birth_date = json_infobox.split(\"birth_date\")[1]\n",
    "birth_date = birth_date.split(\"}\")[0] # se queda con la fecha de cumpleaños de la persona\n",
    "\n",
    "birth_date = re.sub('[^a-zA-Z0-9\\n\\.]', ' ', birth_date) # cambia todos los simbolos por espacios\n",
    "\n",
    "numeros_fechas_cumple = [int(i) for i in birth_date.split() if i.isdigit()] # se queda con todos los numeros del string\n",
    "\n",
    "anio_nacimiento = numeros_fechas_cumple[0]\n",
    "mes_nacimiento = numeros_fechas_cumple[1]\n",
    "dia_nacimiento = numeros_fechas_cumple[2]\n",
    "\n",
    "print(dia_nacimiento,mes_nacimiento,anio_nacimiento)"
   ]
  },
  {
   "cell_type": "code",
   "execution_count": null,
   "id": "f52a0d82",
   "metadata": {},
   "outputs": [],
   "source": [
    "## ----------- MUERTE -------------- ##\n",
    "try: \n",
    "    birth_date = json_infobox.split(\"death_date\")[1]\n",
    "    birth_date = birth_date.split(\"}\")[0]\n",
    "    birth_date=re.sub('[^a-zA-Z0-9\\n\\.]', ' ', birth_date) # cambia todos los simbolos por espacios\n",
    "    numeros_fechas_muerte = [int(i) for i in birth_date.split() if i.isdigit()] # se queda con todos los numeros del string\n",
    "\n",
    "    anio_muerte = numeros_fechas_muerte[0]\n",
    "    mes_muerte = numeros_fechas_muerte[1]\n",
    "    dia_muerte = numeros_fechas_muerte[2]\n",
    "\n",
    "    print(dia_muerte,mes_muerte,anio_muerte)\n",
    "    \n",
    "except:\n",
    "    print('La persona no murió.')\n",
    "    anio_muerte = 0\n",
    "    "
   ]
  },
  {
   "cell_type": "code",
   "execution_count": null,
   "id": "38b0d1a4",
   "metadata": {},
   "outputs": [],
   "source": [
    "## ---------- IMAGEN --------------- ##\n",
    "\n",
    "response  = requests.get(WIKI_REQUEST_IMAGEN + pagina.title)\n",
    "json_data = json.loads(response.text)\n",
    "imagen_persona = list(json_data['query']['pages'].values())[0]['original']['source']\n",
    "\n",
    "print(imagen_persona)"
   ]
  },
  {
   "cell_type": "code",
   "execution_count": null,
   "id": "139a3ad9",
   "metadata": {},
   "outputs": [],
   "source": [
    "# dice toda la informacion de la persona\n",
    "\n",
    "mes_nacimiento_nombre = devolver_nombre_mes(mes_nacimiento)\n",
    "edad = calcular_edad(anio_nacimiento)\n",
    "signo = calcular_signo(mes_nacimiento,dia_nacimiento)\n",
    "\n",
    "print('---------- FICHA DE LA PERSONA ----------')\n",
    "\n",
    "print('Nombre:',pagina.title) #titulo de la pagina de wikipedia\n",
    "\n",
    "print('Fecha de Nacimiento:',dia_nacimiento,\"de\",mes_nacimiento_nombre,'de',anio_nacimiento)\n",
    "\n",
    "if (anio_muerte != 0):\n",
    "      mes_muerte_nombre = devolver_nombre_mes(mes_muerte)\n",
    "      print('Fecha de Muerte:',dia_muerte,\"de\",mes_muerte_nombre,'de',anio_muerte)\n",
    "      print('La persona tendría:',edad,'años.')\n",
    "else:\n",
    "    print('Edad:',edad)\n",
    "    \n",
    "print('Signo del Zodíaco:',signo)\n",
    "\n",
    "print('Información extraída de:',pagina.url)\n",
    "\n",
    "print('Imagen de la persona:',imagen_persona)"
   ]
  },
  {
   "cell_type": "code",
   "execution_count": null,
   "id": "02983d95",
   "metadata": {},
   "outputs": [],
   "source": []
  },
  {
   "cell_type": "code",
   "execution_count": null,
   "id": "bffbfc50",
   "metadata": {},
   "outputs": [],
   "source": [
    "## -------------------------------------------- PROGRAMA CON LAS DOS OPCIONES ------------------------------------------ ##"
   ]
  },
  {
   "cell_type": "code",
   "execution_count": null,
   "id": "fd978c28",
   "metadata": {},
   "outputs": [],
   "source": []
  },
  {
   "cell_type": "code",
   "execution_count": 11,
   "id": "24d845ba",
   "metadata": {},
   "outputs": [],
   "source": [
    "def opcion_2_sin_api():\n",
    "    \n",
    "        # se queda con la pagina de la persona ingresada y se empieza a desarmar la fecha de nacimiento\n",
    "        \n",
    "        resumen = pagina.summary # obtiene el resumen\n",
    "        resumen_primera_parte = resumen.split('(', 1) # se queda con lo que esta en el primer parentesis (lo de la derecha)\n",
    "        resumen_segunda_parte = resumen_primera_parte[1].split('.',1) # se queda con lo que esta hasta el primer punto (lo del izquierda)\n",
    "        fecha = resumen_segunda_parte[0]\n",
    "        #print(fecha)\n",
    "        \n",
    "        # desarma la fecha y se queda con el numero del dia\n",
    "        dia = int([int(i) for i in fecha.split() if i.isdigit()][0]) # se queda con el primer numero que esta en el string\n",
    "        #print(dia)\n",
    "        \n",
    "        # se queda con el anio de nacimiento\n",
    "\n",
    "        fecha = re.sub('[^a-zA-Z0-9\\n\\.]', ' ', fecha) # cambia todos los simbolos por espacios\n",
    "        numeros_fechas = [int(i) for i in fecha.split() if i.isdigit()] # se queda con todos los numeros del string\n",
    "\n",
    "        #print(numeros_fechas)\n",
    "\n",
    "        for i in range (0,len(numeros_fechas)):\n",
    "            if int(numeros_fechas[i]) > 1000: # cuando encuentra el primer numero mayor a mil, corta\n",
    "                anio = int(numeros_fechas[i]) # se guarda el anio de nacimiento\n",
    "                break\n",
    "        #print(anio)\n",
    "        \n",
    "        # devuelve el numero del mes que se ingresa y el nombre\n",
    "\n",
    "        meses_nombres = {'enero': 1,'febrero': 2,'marzo': 3,'abril': 4,'mayo': 5,'junio': 6,'julio': 7,'agosto': 8,'septiembre': 9,'octubre': 10,'noviembre': 11,'diciembre': 12}\n",
    "\n",
    "        lista = fecha.split(\" \") # guarda en una lista todos los elementos del string\n",
    "\n",
    "        for i in lista:\n",
    "          if i in meses_nombres: # se fija cual de esos está dentro del diccionario de meses\n",
    "            mes = i # se guarda el nombre del mes y corta\n",
    "            break\n",
    "\n",
    "        #print(mes)\n",
    "\n",
    "        mes_numero = int(meses_nombres[mes.lower()]) # busca el mes dentro del diccionario y se guarda el numero\n",
    "        #print(mes_numero)\n",
    "        \n",
    "        # devuelve el signo del zodiaco segun dia y mes\n",
    "\n",
    "        signo_persona = calcular_signo(mes_numero,dia)\n",
    "        \n",
    "        #print (\"Signo: \" + signo_persona)\n",
    "        \n",
    "        # calcula la edad de la persona\n",
    "\n",
    "        edad = calcular_edad(anio)\n",
    "        #print(edad)\n",
    "        \n",
    "        # dice toda la informacion de la persona\n",
    "        \n",
    "        print('---------- FICHA DE LA PERSONA ----------')\n",
    "\n",
    "        print('Nombre:',pagina.title) #titulo de la pagina de wikipedia\n",
    "        \n",
    "        print('Fecha de Nacimiento:',dia,\"de\",mes,'de',anio)\n",
    "        \n",
    "        print('Edad:',edad)\n",
    "        \n",
    "        print('Signo del Zodíaco:',signo_persona)\n",
    "\n",
    "        print('Información extraída de:',pagina.url)\n",
    "        "
   ]
  },
  {
   "cell_type": "code",
   "execution_count": 12,
   "id": "3019ccf0",
   "metadata": {},
   "outputs": [],
   "source": [
    "def opcion_1_usa_api():\n",
    "        ## EMPIEZA A CALCULAR LAS FECHAS\n",
    "\n",
    "        response  = requests.get(WIKI_REQUEST_INFOBOX + pagina.title)\n",
    "        json_data = json.loads(response.text)\n",
    "        json_infobox = list(json_data['query']['pages'].values())[0]['revisions'][0]['*']\n",
    "        info_box = json_infobox.split(\"Infobox\")[1] # se queda con la info de la seccion \"infobox\" de wikipedia\n",
    "        \n",
    "        ## ---------- NACIMIENTO ----------- ##\n",
    "        birth_date = json_infobox.split(\"birth_date\")[1]\n",
    "        birth_date = birth_date.split(\"}\")[0] # se queda con la fecha de cumpleaños de la persona\n",
    "\n",
    "        birth_date = re.sub('[^a-zA-Z0-9\\n\\.]', ' ', birth_date) # cambia todos los simbolos por espacios\n",
    "\n",
    "        numeros_fechas_cumple = [int(i) for i in birth_date.split() if i.isdigit()] # se queda con todos los numeros del string\n",
    "\n",
    "        anio_nacimiento = numeros_fechas_cumple[0]\n",
    "        mes_nacimiento = numeros_fechas_cumple[1]\n",
    "        dia_nacimiento = numeros_fechas_cumple[2]\n",
    "\n",
    "        #print(dia_nacimiento,mes_nacimiento,anio_nacimiento)\n",
    "        \n",
    "        ## ----------- MUERTE -------------- ##\n",
    "        murio = False\n",
    "        try: \n",
    "            birth_date = json_infobox.split(\"death_date\")[1]\n",
    "            birth_date = birth_date.split(\"}\")[0]\n",
    "            #print(birth_date)\n",
    "            birth_date=re.sub('[^a-zA-Z0-9\\n\\.]', ' ', birth_date) # cambia todos los simbolos por espacios\n",
    "            numeros_fechas_muerte = [int(i) for i in birth_date.split() if i.isdigit()] # se queda con todos los numeros del string\n",
    "\n",
    "            anio_muerte = numeros_fechas_muerte[0]\n",
    "            mes_muerte = numeros_fechas_muerte[1]\n",
    "            dia_muerte = numeros_fechas_muerte[2]\n",
    "\n",
    "            murio = True\n",
    "            #print(dia_muerte,mes_muerte,anio_muerte)\n",
    "\n",
    "        except:\n",
    "            #print('La persona no murió.')\n",
    "            #anio_muerte = 0\n",
    "            pass\n",
    "            \n",
    "        ## ---------- IMAGEN --------------- ##\n",
    "        \n",
    "        response  = requests.get(WIKI_REQUEST_IMAGEN + pagina.title)\n",
    "        json_data = json.loads(response.text)\n",
    "        imagen_persona = list(json_data['query']['pages'].values())[0]['original']['source']\n",
    "\n",
    "        #print(imagen_persona)\n",
    "        \n",
    "        # dice toda la informacion de la persona\n",
    "\n",
    "        mes_nacimiento_nombre = devolver_nombre_mes(mes_nacimiento)\n",
    "        #print(mes_nacimiento_nombre)\n",
    "        edad = calcular_edad(anio_nacimiento)\n",
    "        #print(edad)\n",
    "        signo = calcular_signo(mes_nacimiento,dia_nacimiento)\n",
    "        #print(signo)\n",
    "        \n",
    "        #print(murio)\n",
    "        if (murio):\n",
    "            mes_muerte_nombre = devolver_nombre_mes(mes_muerte)\n",
    "\n",
    "        print('---------- FICHA DE LA PERSONA ----------')\n",
    "\n",
    "        print('Nombre:',pagina.title) #titulo de la pagina de wikipedia\n",
    "\n",
    "        print('Fecha de Nacimiento:',dia_nacimiento,\"de\",mes_nacimiento_nombre,'de',anio_nacimiento)\n",
    "\n",
    "        #print(murio)\n",
    "        if (murio):\n",
    "            print('Fecha de Muerte:',dia_muerte,\"de\",mes_muerte_nombre,'de',anio_muerte)\n",
    "            print('La persona tendría:',edad,'años.')\n",
    "        else:\n",
    "            print('Edad:',edad)\n",
    "\n",
    "        print('Signo del Zodíaco:',signo)\n",
    "\n",
    "        print('Información extraída de:',pagina.url)\n",
    "\n",
    "        print('Imagen de la persona:',imagen_persona)"
   ]
  },
  {
   "cell_type": "code",
   "execution_count": 13,
   "id": "63b903b5",
   "metadata": {},
   "outputs": [
    {
     "name": "stdout",
     "output_type": "stream",
     "text": [
      "---------- FICHA DE LA PERSONA ----------\n",
      "Nombre: Teresa de Calcuta\n",
      "Fecha de Nacimiento: 26 de agosto de 1910\n",
      "Edad: 111\n",
      "Signo del Zodíaco: Virgo\n",
      "Información extraída de: https://es.wikipedia.org/wiki/Teresa_de_Calcuta\n"
     ]
    }
   ],
   "source": [
    "opcion_1 = True\n",
    "try:\n",
    "    #print('entro 1')\n",
    "    opcion_1_usa_api()\n",
    "except:\n",
    "    #print('error en 1')\n",
    "    opcion_1 = False\n",
    "#print(opcion_1)    \n",
    "if(opcion_1 == False):\n",
    "    try:\n",
    "        #print('entro 2')\n",
    "        opcion_2_sin_api()\n",
    "    except:\n",
    "        print('No es posible encontrar la persona')"
   ]
  }
 ],
 "metadata": {
  "kernelspec": {
   "display_name": "Python 3 (ipykernel)",
   "language": "python",
   "name": "python3"
  },
  "language_info": {
   "codemirror_mode": {
    "name": "ipython",
    "version": 3
   },
   "file_extension": ".py",
   "mimetype": "text/x-python",
   "name": "python",
   "nbconvert_exporter": "python",
   "pygments_lexer": "ipython3",
   "version": "3.8.5"
  }
 },
 "nbformat": 4,
 "nbformat_minor": 5
}
