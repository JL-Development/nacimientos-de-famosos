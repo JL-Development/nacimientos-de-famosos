{
 "cells": [
  {
   "cell_type": "code",
   "execution_count": 69,
   "id": "79e1b13c",
   "metadata": {},
   "outputs": [],
   "source": [
    "import wikipedia # libreria de python de wikipedia\n",
    "from datetime import date # para saber el anio actual\n",
    "import re #se usa para poder reemplazar los simbolos por espacios en un string\n",
    "import requests\n",
    "import json\n",
    "WIKI_REQUEST = 'http://en.wikipedia.org/w/api.php?action=query&prop=pageimages&format=json&piprop=original&titles='"
   ]
  },
  {
   "cell_type": "code",
   "execution_count": 70,
   "id": "05f159f3",
   "metadata": {},
   "outputs": [],
   "source": [
    "todays_date = date.today()"
   ]
  },
  {
   "cell_type": "code",
   "execution_count": 143,
   "id": "d409e554",
   "metadata": {},
   "outputs": [],
   "source": [
    "wikipedia.set_lang(\"es\") # setea el lenguaje en que se va a buscar en wikipedia"
   ]
  },
  {
   "cell_type": "code",
   "execution_count": null,
   "id": "88ce4205",
   "metadata": {},
   "outputs": [],
   "source": []
  },
  {
   "cell_type": "code",
   "execution_count": 134,
   "id": "a41bd489",
   "metadata": {},
   "outputs": [
    {
     "data": {
      "text/plain": [
       "\"import wikipedia\\n\\n\\n\\n\\ndef get_wiki_image(search_term):\\n    try:\\n        result = wikipedia.search(search_term, results = 1)\\n        wikipedia.set_lang('es')\\n        wkpage = wikipedia.WikipediaPage(title = result[0])\\n        title = wkpage.title\\n        response  = requests.get(WIKI_REQUEST+title)\\n        json_data = json.loads(response.text)\\n        img_link = list(json_data['query']['pages'].values())[0]['original']['source']\\n        return img_link        \\n    except:\\n        return 0\\n\\nwiki_image = get_wiki_image('messi')\\nprint(wiki_image)\""
      ]
     },
     "execution_count": 134,
     "metadata": {},
     "output_type": "execute_result"
    }
   ],
   "source": [
    "'''import wikipedia\n",
    "\n",
    "\n",
    "\n",
    "\n",
    "def get_wiki_image(search_term):\n",
    "    try:\n",
    "        result = wikipedia.search(search_term, results = 1)\n",
    "        wikipedia.set_lang('es')\n",
    "        wkpage = wikipedia.WikipediaPage(title = result[0])\n",
    "        title = wkpage.title\n",
    "        response  = requests.get(WIKI_REQUEST+title)\n",
    "        json_data = json.loads(response.text)\n",
    "        img_link = list(json_data['query']['pages'].values())[0]['original']['source']\n",
    "        return img_link        \n",
    "    except:\n",
    "        return 0\n",
    "\n",
    "wiki_image = get_wiki_image('messi')\n",
    "print(wiki_image)'''"
   ]
  },
  {
   "cell_type": "code",
   "execution_count": null,
   "id": "14d98098",
   "metadata": {},
   "outputs": [],
   "source": []
  },
  {
   "cell_type": "code",
   "execution_count": 145,
   "id": "a2e82d60",
   "metadata": {},
   "outputs": [
    {
     "name": "stdout",
     "output_type": "stream",
     "text": [
      "Ingrese persona: maradona\n",
      "Opcion 0 : Diego Maradona\n",
      "Opcion 1 : Dalma Maradona\n",
      "Opcion 2 : Esteban Laureano Maradona\n",
      "Opcion 3 : Estadio Diego Armando Maradona (Italia)\n",
      "Opcion 4 : Raúl Maradona\n",
      "Opcion 5 : Maradona (desambiguación)\n",
      "Opcion 6 : Estadio Diego Armando Maradona\n",
      "Opcion 7 : Jorge Maradona\n",
      "Opcion 8 : Maradona by Kusturica\n",
      "Opcion 9 : José Ignacio Maradona\n"
     ]
    }
   ],
   "source": [
    "persona = input('Ingrese persona: ')\n",
    "\n",
    "lista_de_coincidencias = wikipedia.search(persona)  #busca todas las coincidencias que exiten en wikipedia con el nombre\n",
    "\n",
    "for i in range(0,len(lista_de_coincidencias)): # imprime todas las coincidencias de wikipedia con el nombre ingresado\n",
    "    print('Opcion',i,\":\",lista_de_coincidencias[i])"
   ]
  },
  {
   "cell_type": "code",
   "execution_count": 146,
   "id": "ec0b414b",
   "metadata": {},
   "outputs": [
    {
     "name": "stdout",
     "output_type": "stream",
     "text": [
      "Ingrese Opcion:0\n"
     ]
    },
    {
     "data": {
      "text/plain": [
       "'resumen = pagina.summary # obtiene el resumen\\n\\ntry:\\n    resumen_primera_parte = resumen.split(\\'(\\', 1) # se queda con lo que esta en el primer parentesis (lo de la derecha)\\n    resumen_segunda_parte = resumen_primera_parte[1].split(\\'.\\',1) #se queda con lo que esta hasta el primer punto (lo del izquierda)\\n    fecha = resumen_segunda_parte[0]\\n    print(fecha)\\nexcept:\\n  print(\"Por favor, ingrese otra persona.\") '"
      ]
     },
     "execution_count": 146,
     "metadata": {},
     "output_type": "execute_result"
    }
   ],
   "source": [
    "# se queda con la pagina de la persona ingresada y se empieza a desarmar la fecha de nacimiento\n",
    "\n",
    "# la idea para que funcione es que en el primer parrafo de wikipedia esté la fecha de nacimiento de la persona\n",
    "# debe estar al menos con un parentesis al principio, y un punto pasada la fecha: Ej. (22 de Noviembre, asd,asd,asd .\n",
    "\n",
    "opcion = int(input('Ingrese Opcion:'))\n",
    "pagina = wikipedia.WikipediaPage(lista_de_coincidencias[opcion]) # se queda con la pagina de wikipedia de la persona\n",
    "\n",
    "'''resumen = pagina.summary # obtiene el resumen\n",
    "\n",
    "try:\n",
    "    resumen_primera_parte = resumen.split('(', 1) # se queda con lo que esta en el primer parentesis (lo de la derecha)\n",
    "    resumen_segunda_parte = resumen_primera_parte[1].split('.',1) #se queda con lo que esta hasta el primer punto (lo del izquierda)\n",
    "    fecha = resumen_segunda_parte[0]\n",
    "    print(fecha)\n",
    "except:\n",
    "  print(\"Por favor, ingrese otra persona.\") '''"
   ]
  },
  {
   "cell_type": "code",
   "execution_count": 75,
   "id": "8136337a",
   "metadata": {},
   "outputs": [
    {
     "name": "stdout",
     "output_type": "stream",
     "text": [
      "20\n"
     ]
    }
   ],
   "source": [
    "# desarma la fecha y se queda con el numero del dia\n",
    "\n",
    "try:\n",
    "    dia = int([int(i) for i in fecha.split() if i.isdigit()][0]) # se queda con el primer numero que esta en el string\n",
    "    print(dia)\n",
    "except:\n",
    "    print(\"Por favor, ingrese otra persona.\") "
   ]
  },
  {
   "cell_type": "code",
   "execution_count": 76,
   "id": "7b0fb818",
   "metadata": {},
   "outputs": [
    {
     "name": "stdout",
     "output_type": "stream",
     "text": [
      "[20, 1992]\n",
      "1992\n"
     ]
    }
   ],
   "source": [
    "# se queda con el anio de nacimiento\n",
    "\n",
    "fecha=re.sub('[^a-zA-Z0-9\\n\\.]', ' ', fecha) # cambia todos los simbolos por espacios\n",
    "numeros_fechas = [int(i) for i in fecha.split() if i.isdigit()] # se queda con todos los numeros del string\n",
    "\n",
    "print(numeros_fechas)\n",
    "\n",
    "for i in range (0,len(numeros_fechas)):\n",
    "    if int(numeros_fechas[i]) > 1000: #cuando encuentra el primer numero mayor a mil, corta\n",
    "        anio = int(numeros_fechas[i]) # se guarda el anio de nacimiento\n",
    "        break\n",
    "print(anio)"
   ]
  },
  {
   "cell_type": "code",
   "execution_count": 77,
   "id": "610df535",
   "metadata": {},
   "outputs": [
    {
     "name": "stdout",
     "output_type": "stream",
     "text": [
      "agosto\n",
      "8\n"
     ]
    }
   ],
   "source": [
    "# devuelve el numero del mes que se ingresa y el nombre\n",
    "\n",
    "meses_nombres = {'enero': 1,'febrero': 2,'marzo': 3,'abril': 4,'mayo': 5,'junio': 6,'julio': 7,'agosto': 8,'septiembre': 9,'octubre': 10,'noviembre': 11,'diciembre': 12}\n",
    "\n",
    "lista = fecha.split(\" \") # guarda en una lista todos los elementos del string\n",
    "\n",
    "for i in lista:\n",
    "  if i in meses_nombres: # se fija cual de esos está dentro del diccionario de meses\n",
    "    mes = i # se guarda el nombre del mes y corta\n",
    "    break\n",
    "    \n",
    "print(mes)\n",
    "\n",
    "mes_numero = int(meses_nombres[mes.lower()]) # busca el mes dentro del diccionario y se guarda el numero\n",
    "print(mes_numero)"
   ]
  },
  {
   "cell_type": "code",
   "execution_count": 78,
   "id": "853afc60",
   "metadata": {},
   "outputs": [
    {
     "name": "stdout",
     "output_type": "stream",
     "text": [
      "Signo: Leo\n"
     ]
    }
   ],
   "source": [
    "# devuelve el signo del zodiaco segun dia y mes\n",
    "\n",
    "signo = (\"Capricornio\", \"Acuario\", \"Piscis\", \"Aries\", \"Tauro\", \"Géminis\", \"Cáncer\", \"Leo\", \"Virgo\", \"Libra\", \"Escorpio\", \"Sagitario\")\n",
    "fechas = (20, 19, 20, 20, 21, 21, 22, 22, 22, 22, 22, 21)\n",
    "\n",
    "mes_numero=mes_numero-1\n",
    "if dia>fechas[mes_numero]:\n",
    "    mes_numero=mes_numero+1\n",
    "if mes_numero==12:\n",
    "    mes_numero=0\n",
    "    \n",
    "signo_persona = signo[mes_numero] # guarda en una variable el signo de la persona\n",
    "print (\"Signo: \" + signo_persona)"
   ]
  },
  {
   "cell_type": "code",
   "execution_count": 79,
   "id": "777cdbd1",
   "metadata": {},
   "outputs": [
    {
     "name": "stdout",
     "output_type": "stream",
     "text": [
      "29\n"
     ]
    }
   ],
   "source": [
    "#calcula la edad de la persona\n",
    "\n",
    "edad = todays_date.year - anio #resta anio actual menos anio de nacimiento\n",
    "print(edad)"
   ]
  },
  {
   "cell_type": "code",
   "execution_count": 80,
   "id": "3a188335",
   "metadata": {
    "scrolled": true
   },
   "outputs": [
    {
     "name": "stdout",
     "output_type": "stream",
     "text": [
      "---------- FICHA DE LA PERSONA ----------\n",
      "Nombre: Demi Lovato\n",
      "Fecha de Nacimiento: 20 de agosto de 1992\n",
      "Edad: 29\n",
      "Signo del Zodíaco: Leo\n",
      "Información extraída de: https://es.wikipedia.org/wiki/Demi_Lovato\n",
      "Imagen: https://upload.wikimedia.org/wikipedia/commons/1/1c/Demi_Lovato_Interview_Feb_2020.png\n"
     ]
    }
   ],
   "source": [
    "# dice toda la informacion de la persona\n",
    "\n",
    "print('---------- FICHA DE LA PERSONA ----------')\n",
    "print('Nombre:',pagina.title) #titulo de la pagina de wikipedia\n",
    "print('Fecha de Nacimiento:',dia,\"de\",mes,'de',anio)\n",
    "if(edad > 110):\n",
    "    print('Edad:',edad,\". Probablemente ya esté muerto.\")\n",
    "else:\n",
    "    print('Edad:',edad)\n",
    "print('Signo del Zodíaco:',signo_persona)\n",
    "print('Información extraída de:',pagina.url)\n",
    "\n",
    "response  = requests.get(WIKI_REQUEST+pagina.title)\n",
    "json_data = json.loads(response.text)\n",
    "img_link = list(json_data['query']['pages'].values())[0]['original']['source']\n",
    "\n",
    "print('Imagen:',img_link)"
   ]
  },
  {
   "cell_type": "code",
   "execution_count": null,
   "id": "38b0d1a4",
   "metadata": {},
   "outputs": [],
   "source": []
  },
  {
   "cell_type": "code",
   "execution_count": 159,
   "id": "139a3ad9",
   "metadata": {},
   "outputs": [
    {
     "name": "stdout",
     "output_type": "stream",
     "text": [
      "---------- FICHA DE LA PERSONA ----------\n",
      "Nombre: Diego Maradona\n",
      "Fecha de Nacimiento: 20 de agosto de 1992\n",
      "Edad: 29\n",
      "Signo del Zodíaco: Leo\n",
      "Información extraída de: https://es.wikipedia.org/wiki/Diego_Maradona\n",
      " = {{death date and age|2020|11|25|1960|10|30|df=yes\n",
      "Imagen: [1960, 10, 30]\n",
      "Imagen: [2020, 11, 25, 1960, 10, 30]\n"
     ]
    }
   ],
   "source": [
    "# dice toda la informacion de la persona\n",
    "\n",
    "print('---------- FICHA DE LA PERSONA ----------')\n",
    "print('Nombre:',pagina.title) #titulo de la pagina de wikipedia\n",
    "print('Fecha de Nacimiento:',dia,\"de\",mes,'de',anio)\n",
    "if(edad > 110):\n",
    "    print('Edad:',edad,\". Probablemente ya esté muerto.\")\n",
    "else:\n",
    "    print('Edad:',edad)\n",
    "print('Signo del Zodíaco:',signo_persona)\n",
    "print('Información extraída de:',pagina.url)\n",
    "\n",
    "response  = requests.get('https://en.wikipedia.org/w/api.php?action=query&prop=revisions&rvprop=content&format=json&titles='+pagina.title)\n",
    "json_data = json.loads(response.text)\n",
    "img_link = list(json_data['query']['pages'].values())[0]['revisions'][0]['*']\n",
    "\n",
    "info_box = img_link.split(\"Infobox\")[1]\n",
    "#print(img_link)\n",
    "birth_date = img_link.split(\"birth_date\")[1]\n",
    "birth_date = birth_date.split(\"}\")[0]\n",
    "birth_date=re.sub('[^a-zA-Z0-9\\n\\.]', ' ', birth_date) # cambia todos los simbolos por espacios\n",
    "numeros_fechas_cumple = [int(i) for i in birth_date.split() if i.isdigit()] # se queda con todos los numeros del string\n",
    "\n",
    "birth_date = img_link.split(\"death_date\")[1]\n",
    "\n",
    "birth_date = birth_date.split(\"}\")[0]\n",
    "print(birth_date)\n",
    "birth_date=re.sub('[^a-zA-Z0-9\\n\\.]', ' ', birth_date) # cambia todos los simbolos por espacios\n",
    "numeros_fechas_muerte = [int(i) for i in birth_date.split() if i.isdigit()] # se queda con todos los numeros del string\n",
    "\n",
    "print('Imagen:',numeros_fechas_cumple)\n",
    "print('Imagen:',numeros_fechas_muerte)"
   ]
  }
 ],
 "metadata": {
  "kernelspec": {
   "display_name": "Python 3 (ipykernel)",
   "language": "python",
   "name": "python3"
  },
  "language_info": {
   "codemirror_mode": {
    "name": "ipython",
    "version": 3
   },
   "file_extension": ".py",
   "mimetype": "text/x-python",
   "name": "python",
   "nbconvert_exporter": "python",
   "pygments_lexer": "ipython3",
   "version": "3.8.5"
  }
 },
 "nbformat": 4,
 "nbformat_minor": 5
}
