{
 "cells": [
  {
   "cell_type": "code",
   "execution_count": 24,
   "id": "79e1b13c",
   "metadata": {},
   "outputs": [],
   "source": [
    "import wikipedia # libreria de python de wikipedia\n",
    "from datetime import date # para saber el anio actual\n",
    "import re"
   ]
  },
  {
   "cell_type": "code",
   "execution_count": 25,
   "id": "05f159f3",
   "metadata": {},
   "outputs": [],
   "source": [
    "todays_date = date.today()"
   ]
  },
  {
   "cell_type": "code",
   "execution_count": 26,
   "id": "d409e554",
   "metadata": {},
   "outputs": [],
   "source": [
    "wikipedia.set_lang(\"es\") # setea el lenguaje en que se va a buscar en wikipedia"
   ]
  },
  {
   "cell_type": "code",
   "execution_count": 27,
   "id": "a2e82d60",
   "metadata": {},
   "outputs": [
    {
     "name": "stdout",
     "output_type": "stream",
     "text": [
      "Ingrese persona: menem\n",
      "Opcion 0 : Carlos Menem\n",
      "Opcion 1 : Carlos Menem Jr.\n",
      "Opcion 2 : Zulema María Eva Menem\n",
      "Opcion 3 : Indultos realizados por Carlos Menem\n",
      "Opcion 4 : Menem trucho\n",
      "Opcion 5 : Eduardo Menem\n",
      "Opcion 6 : Munir Menem\n",
      "Opcion 7 : Zulema Fátima Yoma\n",
      "Opcion 8 : Hospital Materno Infantil Mohibe Akil de Menem\n",
      "Opcion 9 : Funeral de Carlos Menem\n"
     ]
    }
   ],
   "source": [
    "persona = input('Ingrese persona: ')\n",
    "\n",
    "lista_de_coincidencias = wikipedia.search(persona)  #busca todas las coincidencias que exiten en wikipedia con el nombre\n",
    "\n",
    "for i in range(0,len(lista_de_coincidencias)): # imprime todas las coincidencias de wikipedia con el nombre ingresado\n",
    "    print('Opcion',i,\":\",lista_de_coincidencias[i])"
   ]
  },
  {
   "cell_type": "code",
   "execution_count": 28,
   "id": "ec0b414b",
   "metadata": {},
   "outputs": [
    {
     "name": "stdout",
     "output_type": "stream",
     "text": [
      "Ingrese Opcion:1\n",
      "La Rioja, 23 de noviembre de 1968-Ramallo, 15 de marzo de 1995), también conocido como Carlos Menem, Jr fue un piloto de automovilismo argentino, hijo del expresidente de Argentina, Carlos Saúl Menem\n"
     ]
    }
   ],
   "source": [
    "# se queda con la pagina de la persona ingresada y se empieza a desarmar la fecha de nacimiento\n",
    "\n",
    "opcion = int(input('Ingrese Opcion:'))\n",
    "pagina = wikipedia.WikipediaPage(lista_de_coincidencias[opcion]) # se queda con la pagina de wikipedia de la persona\n",
    "\n",
    "resumen = pagina.summary # obtiene el resumen\n",
    "\n",
    "try:\n",
    "    resumen_primera_parte = resumen.split('(', 1) # se queda con lo que esta en el primer parentesis (lo de la derecha)\n",
    "    resumen_segunda_parte = resumen_primera_parte[1].split('.',1) #se queda con lo que esta hasta el primer punto (lo del izquierda)\n",
    "    fecha = resumen_segunda_parte[0]\n",
    "    print(fecha)\n",
    "except:\n",
    "  print(\"Por favor, ingrese otra persona.\") "
   ]
  },
  {
   "cell_type": "code",
   "execution_count": 29,
   "id": "8136337a",
   "metadata": {},
   "outputs": [
    {
     "name": "stdout",
     "output_type": "stream",
     "text": [
      "23\n"
     ]
    }
   ],
   "source": [
    "# desarma la fecha y se queda con el numero del dia\n",
    "\n",
    "try:\n",
    "    dia = int([int(i) for i in fecha.split() if i.isdigit()][0]) # se queda con el primer numero que esta en el string\n",
    "    print(dia)\n",
    "except:\n",
    "    print(\"Por favor, ingrese otra persona.\") "
   ]
  },
  {
   "cell_type": "code",
   "execution_count": 30,
   "id": "7b0fb818",
   "metadata": {},
   "outputs": [
    {
     "name": "stdout",
     "output_type": "stream",
     "text": [
      "[23, 1968, 15, 1995]\n",
      "1968\n"
     ]
    }
   ],
   "source": [
    "# se queda con el anio de nacimiento\n",
    "\n",
    "fecha=re.sub('[^a-zA-Z0-9\\n\\.]', ' ', fecha) # cambia todos los simbolos por espacios\n",
    "numeros_fechas = [int(i) for i in fecha.split() if i.isdigit()] # se queda con todos los numeros del string\n",
    "\n",
    "print(numeros_fechas)\n",
    "\n",
    "for i in range (0,len(numeros_fechas)):\n",
    "    if int(numeros_fechas[i]) > 1000: #cuando encuentra el primer numero mayor a mil, corta\n",
    "        anio = int(numeros_fechas[i]) # se guarda el anio de nacimiento\n",
    "        break\n",
    "print(anio)"
   ]
  },
  {
   "cell_type": "code",
   "execution_count": 31,
   "id": "610df535",
   "metadata": {},
   "outputs": [
    {
     "name": "stdout",
     "output_type": "stream",
     "text": [
      "noviembre\n",
      "11\n"
     ]
    }
   ],
   "source": [
    "# devuelve el numero del mes que se ingresa y el nombre\n",
    "\n",
    "meses_nombres = {'enero': 1,'febrero': 2,'marzo': 3,'abril': 4,'mayo': 5,'junio': 6,'julio': 7,'agosto': 8,'septiembre': 9,'octubre': 10,'noviembre': 11,'diciembre': 12}\n",
    "\n",
    "lista = fecha.split(\" \") # guarda en una lista todos los elementos del string\n",
    "\n",
    "for i in lista:\n",
    "  if i in meses_nombres: # se fija cual de esos está dentro del diccionario de meses\n",
    "    mes = i # se guarda el nombre del mes y corta\n",
    "    break\n",
    "    \n",
    "print(mes)\n",
    "\n",
    "mes_numero = int(meses_nombres[mes.lower()]) # busca el mes dentro del diccionario y se guarda el numero\n",
    "print(mes_numero)"
   ]
  },
  {
   "cell_type": "code",
   "execution_count": 32,
   "id": "853afc60",
   "metadata": {},
   "outputs": [
    {
     "name": "stdout",
     "output_type": "stream",
     "text": [
      "Signo: Sagitario\n"
     ]
    }
   ],
   "source": [
    "# devuelve el signo del zodiaco segun dia y mes\n",
    "\n",
    "signo = (\"Capricornio\", \"Acuario\", \"Piscis\", \"Aries\", \"Tauro\", \"Géminis\", \"Cáncer\", \"Leo\", \"Virgo\", \"Libra\", \"Escorpio\", \"Sagitario\")\n",
    "fechas = (20, 19, 20, 20, 21, 21, 22, 22, 22, 22, 22, 21)\n",
    "\n",
    "mes_numero=mes_numero-1\n",
    "if dia>fechas[mes_numero]:\n",
    "    mes_numero=mes_numero+1\n",
    "if mes_numero==12:\n",
    "    mes_numero=0\n",
    "    \n",
    "signo_persona = signo[mes_numero] # guarda en una variable el signo de la persona\n",
    "print (\"Signo: \" + signo_persona)"
   ]
  },
  {
   "cell_type": "code",
   "execution_count": 33,
   "id": "777cdbd1",
   "metadata": {},
   "outputs": [
    {
     "name": "stdout",
     "output_type": "stream",
     "text": [
      "53\n"
     ]
    }
   ],
   "source": [
    "#calcula la edad de la persona\n",
    "\n",
    "edad = todays_date.year - anio #resta anio actual menos anio de nacimiento\n",
    "print(edad)"
   ]
  },
  {
   "cell_type": "code",
   "execution_count": 34,
   "id": "3a188335",
   "metadata": {},
   "outputs": [
    {
     "name": "stdout",
     "output_type": "stream",
     "text": [
      "Nombre: Carlos Menem Jr.\n",
      "Fecha de Nacimiento: 23 de noviembre de 1968\n",
      "Edad: 53\n",
      "Signo del Zodíaco: Sagitario\n"
     ]
    }
   ],
   "source": [
    "# dice toda la informacion de la persona\n",
    "\n",
    "print('Nombre:',pagina.title) #titulo de la pagina de wikipedia\n",
    "print('Fecha de Nacimiento:',dia,\"de\",mes,'de',anio)\n",
    "if(edad > 110):\n",
    "    print('Edad:',edad,\". Probablemente ya esté muerto.\")\n",
    "else:\n",
    "    print('Edad:',edad)\n",
    "print('Signo del Zodíaco:',signo_persona)"
   ]
  },
  {
   "cell_type": "code",
   "execution_count": null,
   "id": "139a3ad9",
   "metadata": {},
   "outputs": [],
   "source": []
  }
 ],
 "metadata": {
  "kernelspec": {
   "display_name": "Python 3 (ipykernel)",
   "language": "python",
   "name": "python3"
  },
  "language_info": {
   "codemirror_mode": {
    "name": "ipython",
    "version": 3
   },
   "file_extension": ".py",
   "mimetype": "text/x-python",
   "name": "python",
   "nbconvert_exporter": "python",
   "pygments_lexer": "ipython3",
   "version": "3.8.5"
  }
 },
 "nbformat": 4,
 "nbformat_minor": 5
}
